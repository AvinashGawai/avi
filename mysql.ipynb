{
 "cells": [
  {
   "cell_type": "code",
   "execution_count": 3,
   "metadata": {},
   "outputs": [
    {
     "data": {
      "text/plain": [
       "'A database is an organized collection of data that can be accessed, managed and updated easily. \\nSQL and NoSQL are two types of databases that differ in their structure and functionality.\\nSQL databases are relational databases that store data in tables with predefined schemas.\\nThey are best suited for applications that require multi-row transactions such as an accounting \\nsystem or for legacy systems that were built for a relational structure12.\\nNoSQL databases are non-relational databases that store data in a manner other than the tabular \\nrelations used within SQL databases. They are suitable for structured, semi-structured, and unstructured data3.'"
      ]
     },
     "execution_count": 3,
     "metadata": {},
     "output_type": "execute_result"
    }
   ],
   "source": [
    "# Q1. What is a database? Differentiate between SQL and NoSQL databases.\n",
    "'''A database is an organized collection of data that can be accessed, managed and updated easily. \n",
    "SQL and NoSQL are two types of databases that differ in their structure and functionality.\n",
    "SQL databases are relational databases that store data in tables with predefined schemas.\n",
    "They are best suited for applications that require multi-row transactions such as an accounting \n",
    "system or for legacy systems that were built for a relational structure12.\n",
    "NoSQL databases are non-relational databases that store data in a manner other than the tabular \n",
    "relations used within SQL databases. They are suitable for structured, semi-structured, and unstructured data3.'''"
   ]
  },
  {
   "cell_type": "code",
   "execution_count": null,
   "metadata": {},
   "outputs": [],
   "source": [
    "# What is DDL? Explain why CREATE, DROP, ALTER, and TRUNCATE are used with an example.\n",
    "'''DDL stands for Data Definition Language. It is a subset of SQL that is used to define the structure of a database. DDL commands are used to create, modify, and delete database objects such as tables, indexes, and views.\n",
    "\n",
    "CREATE command is used to create a new table in the database. For example, the following command creates a new table named “students” with three columns: id, name, and age.\n",
    "\n",
    "CREATE TABLE students (\n",
    "    id INT PRIMARY KEY,\n",
    "    name VARCHAR(50),\n",
    "    age INT\n",
    ");\n",
    "Copy\n",
    "DROP command is used to delete an existing table from the database. For example, the following command deletes the “students” table:\n",
    "\n",
    "DROP TABLE students;\n",
    "Copy\n",
    "ALTER command is used to modify an existing table in the database. For example, the following command adds a new column named “email” to the “students” table:\n",
    "\n",
    "ALTER TABLE students ADD email VARCHAR(50);\n",
    "Copy\n",
    "TRUNCATE command is used to remove all rows from an existing table. For example, the following command removes all rows from the “students” table:\n",
    "\n",
    "TRUNCATE TABLE students;'''"
   ]
  },
  {
   "cell_type": "code",
   "execution_count": 4,
   "metadata": {},
   "outputs": [
    {
     "data": {
      "text/plain": [
       "\"DML stands for Data Manipulation Language. It is a subset of SQL that is used to manipulate data in a database. DML commands are used to insert, update, and delete data in a database.\\n\\nINSERT command is used to insert new rows into a table. For example, the following command inserts a new row into the “students” table:\\n\\nINSERT INTO students (id, name, age) VALUES (1, 'John', 20);\\nCopy\\nUPDATE command is used to modify existing rows in a table. For example, the following command updates the age of the student with id 1:\\n\\nUPDATE students SET age = 21 WHERE id = 1;\\nCopy\\nDELETE command is used to delete existing rows from a table. For example, the following command deletes the student with id 1:\\n\\nDELETE FROM students WHERE id = 1;\""
      ]
     },
     "execution_count": 4,
     "metadata": {},
     "output_type": "execute_result"
    }
   ],
   "source": [
    "#Q3. What is DML? Explain INSERT, UPDATE, and DELETE with an example.\n",
    "'''DML stands for Data Manipulation Language. It is a subset of SQL that is used to manipulate data in a database. DML commands are used to insert, update, and delete data in a database.\n",
    "\n",
    "INSERT command is used to insert new rows into a table. For example, the following command inserts a new row into the “students” table:\n",
    "\n",
    "INSERT INTO students (id, name, age) VALUES (1, 'John', 20);\n",
    "Copy\n",
    "UPDATE command is used to modify existing rows in a table. For example, the following command updates the age of the student with id 1:\n",
    "\n",
    "UPDATE students SET age = 21 WHERE id = 1;\n",
    "Copy\n",
    "DELETE command is used to delete existing rows from a table. For example, the following command deletes the student with id 1:\n",
    "\n",
    "DELETE FROM students WHERE id = 1;'''"
   ]
  },
  {
   "cell_type": "code",
   "execution_count": 5,
   "metadata": {},
   "outputs": [
    {
     "data": {
      "text/plain": [
       "'DQL stands for Data Query Language. It is a subset of SQL that is used to retrieve data from a database. DQL commands are used to query data from one or more tables.\\n\\nSELECT command is used to retrieve data from one or more tables. For example, the following command retrieves all rows from the “students” table:\\n\\nSELECT * FROM students;\\nCopy\\nThis command retrieves all columns and rows from the “students” table. You can also specify which columns you want to retrieve by listing them after the SELECT keyword. For example, the following command retrieves only the name and age columns from the “students” table:\\n\\nSELECT name, age FROM students;'"
      ]
     },
     "execution_count": 5,
     "metadata": {},
     "output_type": "execute_result"
    }
   ],
   "source": [
    "#Q4. What is DQL? Explain SELECT with an example.\n",
    "'''DQL stands for Data Query Language. It is a subset of SQL that is used to retrieve data from a database. DQL commands are used to query data from one or more tables.\n",
    "\n",
    "SELECT command is used to retrieve data from one or more tables. For example, the following command retrieves all rows from the “students” table:\n",
    "\n",
    "SELECT * FROM students;\n",
    "Copy\n",
    "This command retrieves all columns and rows from the “students” table. You can also specify which columns you want to retrieve by listing them after the SELECT keyword. For example, the following command retrieves only the name and age columns from the “students” table:\n",
    "\n",
    "SELECT name, age FROM students;'''\n"
   ]
  },
  {
   "cell_type": "code",
   "execution_count": 6,
   "metadata": {},
   "outputs": [
    {
     "data": {
      "text/plain": [
       "'A primary key is a column or set of columns in a table that uniquely identifies each row in the table. It is used to enforce data integrity by ensuring that each row in the table has a unique identifier. A primary key cannot contain null values.\\n\\nFor example, if you have a “students” table, you might use the “id” column as the primary key. Each row in the table would have a unique “id” value.\\n\\nA foreign key is a column or set of columns in one table that refers to the primary key of another table. It is used to enforce referential integrity by ensuring that data in one table corresponds to data in another table.\\n\\nFor example, if you have a “students” table and an “enrollments” table, you might use the “student_id” column in the “enrollments” table as a foreign key that refers to the “id” column in the “students” table. This would ensure that each enrollment corresponds to a valid student.'"
      ]
     },
     "execution_count": 6,
     "metadata": {},
     "output_type": "execute_result"
    }
   ],
   "source": [
    "# Q5. Explain Primary Key and Foreign Key.\n",
    "'''A primary key is a column or set of columns in a table that uniquely identifies each row in the table. It is used to enforce data integrity by ensuring that each row in the table has a unique identifier. A primary key cannot contain null values.\n",
    "\n",
    "For example, if you have a “students” table, you might use the “id” column as the primary key. Each row in the table would have a unique “id” value.\n",
    "\n",
    "A foreign key is a column or set of columns in one table that refers to the primary key of another table. It is used to enforce referential integrity by ensuring that data in one table corresponds to data in another table.\n",
    "\n",
    "For example, if you have a “students” table and an “enrollments” table, you might use the “student_id” column in the “enrollments” table as a foreign key that refers to the “id” column in the “students” table. This would ensure that each enrollment corresponds to a valid student.'''"
   ]
  },
  {
   "cell_type": "code",
   "execution_count": 7,
   "metadata": {},
   "outputs": [
    {
     "data": {
      "text/plain": [
       "'here is an example Python code to connect MySQL to Python using the mysql-connector-python library:\\n\\nimport mysql.connector\\n\\nmydb = mysql.connector.connect(\\n  host=\"localhost\",\\n  user=\"yourusername\",\\n  password=\"yourpassword\",\\n  database=\"mydatabase\"\\n)\\n\\nmycursor = mydb.cursor()\\n\\nmycursor.execute(\"SELECT * FROM customers\")\\n\\nmyresult = mycursor.fetchall()\\n\\nfor x in myresult:\\n  print(x)\\nCopy\\nThe cursor() method creates a cursor object which is used to execute statements to communicate with the MySQL database12. The execute() method is used to execute SQL queries and statements12. It returns the result of the query as a tuple'"
      ]
     },
     "execution_count": 7,
     "metadata": {},
     "output_type": "execute_result"
    }
   ],
   "source": [
    "#Q6. Write a python code to connect MySQL to python. Explain the cursor() and execute() method.\n",
    "'''here is an example Python code to connect MySQL to Python using the mysql-connector-python library:\n",
    "\n",
    "import mysql.connector\n",
    "\n",
    "mydb = mysql.connector.connect(\n",
    "  host=\"localhost\",\n",
    "  user=\"yourusername\",\n",
    "  password=\"yourpassword\",\n",
    "  database=\"mydatabase\"\n",
    ")\n",
    "\n",
    "mycursor = mydb.cursor()\n",
    "\n",
    "mycursor.execute(\"SELECT * FROM customers\")\n",
    "\n",
    "myresult = mycursor.fetchall()\n",
    "\n",
    "for x in myresult:\n",
    "  print(x)\n",
    "Copy\n",
    "The cursor() method creates a cursor object which is used to execute statements to communicate with the MySQL database12. The execute() method is used to execute SQL queries and statements12. It returns the result of the query as a tuple'''"
   ]
  },
  {
   "cell_type": "code",
   "execution_count": null,
   "metadata": {},
   "outputs": [],
   "source": [
    "# Q7. Give the order of execution of SQL clauses in an SQL query.\n",
    "The order of execution of SQL clauses in an SQL query is as follows:\n",
    "\n",
    "FROM and JOINs\n",
    "WHERE\n",
    "GROUP BY\n",
    "HAVING\n",
    "SELECT\n",
    "DISTINCT\n",
    "ORDER BY\n",
    "TOP\n",
    "The FROM clause is processed first, followed by the WHERE clause, GROUP BY, HAVING, and finally SELECT12. It is important for developers to know this order because the database executes query components in a specific order1. However, it is difficult to predict the exact execution order of a query without detailed information about the schema and estimated cardinalities1."
   ]
  }
 ],
 "metadata": {
  "kernelspec": {
   "display_name": "Python 3",
   "language": "python",
   "name": "python3"
  },
  "language_info": {
   "codemirror_mode": {
    "name": "ipython",
    "version": 3
   },
   "file_extension": ".py",
   "mimetype": "text/x-python",
   "name": "python",
   "nbconvert_exporter": "python",
   "pygments_lexer": "ipython3",
   "version": "3.8.3"
  }
 },
 "nbformat": 4,
 "nbformat_minor": 4
}
